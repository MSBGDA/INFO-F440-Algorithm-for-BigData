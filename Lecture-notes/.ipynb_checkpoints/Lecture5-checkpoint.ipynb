{
 "cells": [
  {
   "cell_type": "markdown",
   "metadata": {},
   "source": [
    "# Lecture 5"
   ]
  },
  {
   "cell_type": "markdown",
   "metadata": {},
   "source": [
    "# Count min sketch\n",
    "\n",
    "We are in the streaming model, and data is passing by, and each data item $x$ has an ID. Suppose we want to know, given an ID, what is number of times data with that ID has appeared in the stream, call this $c_x$? In order to answer this exactly, we would need to store a table of all ID's we have seen as well as the number of times we have seen this. Suppose we are willing to have an approximate answer, and in return have a very small structure. That is where the count-min sketch is of use.\n",
    "\n",
    "The count min sketch, given values of $\\epsilon$ and $\\delta$ will for any item $x$ compute an approximate frequency $\\hat{c}_x$ such that $c_x \\leq \\hat{c}_x$ and $\\hat{c}_x \\leq c_x + \\epsilon n$ with probability at least $1-\\delta$, where $n$ is the number of items seen so far. Thus the answer given may overestimate the frequency, but it will never underestimate it.\n",
    "\n",
    "\n",
    "The count-min sketch is a 2-dimensional array $A$ with width $w=2/\\epsilon$ and height $h=\\log \\frac{1}{\\delta}$. This is the entire structure. It thus has size $\\frac{2}{\\epsilon}\\log \\frac{1}{\\delta}$. We assume we have $h$ hash functions $hash_i$, $i \\in [h]$. The two operations are increment and query:\n",
    "\n",
    "- $Increment(x)$: For all $i \\in [h]$, increment $A[i][hash_i(x)]$\n",
    "- $Query(x)$: For all $i \\in [h]$, return the smallest $A[i][hash_i(x)]$\n",
    "\n",
    "Now, lets prove that it works as claimed.\n",
    "\n",
    "Let $X_{x,j}$ be $A[i][hash_i(x)] - c_a$, that is, the number of excess items in the $i$th row for item $x$, those beyond $c_a$.\n",
    "\n",
    "We know $E[X_{x,i}] \\leq n/w$, as less than $n$ items have been added that are not $x$ and each has a probability of $1/w$ of incrementing the same bucket as $i$. Thus by Markov $Pr[X_{x,i} \\geq \\overbrace{2n/w}^{n\\epsilon}] \\leq \\frac{1}{2}$. (Note these events are *not* independent but Markov is ok with that).\n",
    "\n",
    "This is the chance that a single value is above the desired error threshold of $n\\epsilon$. But as we use the min, failure occurs when *all* $h$ locations have above the desired error threshold. Each row is computed independently, so we can just multiply, and you get that this happens with probability at most $\\delta$:\n",
    "\n",
    "$$ Pr\\left[ \\bigwedge_{i=1}^h [X_{a,i} \\geq n\\epsilon] \\right] \\leq \\frac{1}{2^h} = \\delta\n",
    "$$\n",
    "\n",
    "Thus you can get a value, accurate to within $1\\%$ additive error, with $1\\%$ failure probability using an array of size $2000$.\n",
    "\n",
    "\n",
    "\n",
    "\n",
    "\n"
   ]
  },
  {
   "cell_type": "markdown",
   "metadata": {},
   "source": [
    "Here is the code in a class. Most of the code is for printing things out in a nice way. The four lines of code in the `add` and `count` functions are the meat of the countmin sketch."
   ]
  },
  {
   "cell_type": "code",
   "execution_count": 1,
   "metadata": {},
   "outputs": [],
   "source": [
    "import math\n",
    "\n",
    "class countMin:\n",
    "    def __init__(self,epsilon,delta,verbose=False):\n",
    "        self._w=int(2/epsilon)\n",
    "        self._h=int(math.log(1/delta))\n",
    "        self._epsilon=epsilon\n",
    "        self._delta=delta\n",
    "        if verbose:\n",
    "            print(\"Initializing with width=\",self._w,\n",
    "                  \" and height=\",self._h,\n",
    "                  \" total size=\",self._w*self._h,\n",
    "                  \"for epsilon=\", epsilon,\n",
    "                  \"delta=\",delta)\n",
    "        self._A=[ [0]*self._w for i in range(self._h)]\n",
    "        self._n=0\n",
    "    def __repr__(self):\n",
    "        return \"\".join( (repr(self._A[i])+\"\\n\" for i in range(self._h) ) )\n",
    "    def add(self,x,ammount=1):\n",
    "        for h in range(self._h):\n",
    "            self._A[h][hash((h,x))%self._w]+=ammount\n",
    "        self._n+=ammount\n",
    "    def count(self,x):\n",
    "        return min (self._A[h][hash((h,x))%self._w] for h in range(self._h))\n",
    "    def __len__(self):\n",
    "        return self._n\n",
    "    def printCount(self,x):\n",
    "        print(\"Count of \\\"\"+x+\n",
    "             \"\\\" is between \",max(0,self.count(x)-int(self._n*self._epsilon)),\n",
    "             \"and \",self.count(x),\n",
    "              \"with probability at least\",1-self._delta)"
   ]
  },
  {
   "cell_type": "code",
   "execution_count": 2,
   "metadata": {},
   "outputs": [
    {
     "name": "stdout",
     "output_type": "stream",
     "text": [
      "Initializing with width= 20  and height= 4  total size= 80 for epsilon= 0.1 delta= 0.01\n",
      "[0, 0, 1, 0, 0, 0, 0, 0, 0, 0, 0, 0, 0, 0, 0, 0, 0, 0, 0, 0]\n",
      "[1, 0, 0, 0, 0, 0, 0, 0, 0, 0, 0, 0, 0, 0, 0, 0, 0, 0, 0, 0]\n",
      "[0, 0, 0, 0, 0, 0, 0, 1, 0, 0, 0, 0, 0, 0, 0, 0, 0, 0, 0, 0]\n",
      "[0, 0, 0, 0, 0, 0, 0, 0, 0, 0, 0, 0, 0, 0, 0, 0, 0, 0, 0, 1]\n",
      "\n",
      "Count of \"Tiger\" is between  1 and  1 with probability at least 0.99\n"
     ]
    }
   ],
   "source": [
    "# A simple demo   \n",
    "CM=countMin(0.1,0.01,True)\n",
    "CM.add(\"Tiger\")\n",
    "print(repr(CM))\n",
    "CM.printCount(\"Tiger\")        "
   ]
  },
  {
   "cell_type": "markdown",
   "metadata": {},
   "source": [
    "Here is a longer example where I load the collected works of Shakespeare, break it into a list of words, and then put the words into a countMin sketch and use it to estimate their frequency."
   ]
  },
  {
   "cell_type": "code",
   "execution_count": 8,
   "metadata": {},
   "outputs": [
    {
     "name": "stdout",
     "output_type": "stream",
     "text": [
      "\r",
      "  0% [                                                                                ]    0 / 7388\r",
      "100% [................................................................................] 7388 / 7388"
     ]
    },
    {
     "data": {
      "text/plain": [
       "'100-0 (1).txt'"
      ]
     },
     "execution_count": 8,
     "metadata": {},
     "output_type": "execute_result"
    }
   ],
   "source": [
    "import wget\n",
    "wget.download('http://www.gutenberg.org/files/100/100-0.txt')"
   ]
  },
  {
   "cell_type": "code",
   "execution_count": 10,
   "metadata": {
    "scrolled": true
   },
   "outputs": [
    {
     "ename": "UnicodeDecodeError",
     "evalue": "'charmap' codec can't decode byte 0x9d in position 104733: character maps to <undefined>",
     "output_type": "error",
     "traceback": [
      "\u001b[1;31m---------------------------------------------------------------------------\u001b[0m",
      "\u001b[1;31mUnicodeDecodeError\u001b[0m                        Traceback (most recent call last)",
      "\u001b[1;32m<ipython-input-10-31fe98145f61>\u001b[0m in \u001b[0;36m<module>\u001b[1;34m\u001b[0m\n\u001b[0;32m      2\u001b[0m \u001b[1;31m#Download http://www.gutenberg.org/files/100/100-0.txt and put it into a subdirectory called data\u001b[0m\u001b[1;33m\u001b[0m\u001b[1;33m\u001b[0m\u001b[1;33m\u001b[0m\u001b[0m\n\u001b[0;32m      3\u001b[0m \u001b[1;33m\u001b[0m\u001b[0m\n\u001b[1;32m----> 4\u001b[1;33m \u001b[0mshakespere\u001b[0m\u001b[1;33m=\u001b[0m\u001b[0mf\u001b[0m\u001b[1;33m.\u001b[0m\u001b[0mread\u001b[0m\u001b[1;33m(\u001b[0m\u001b[1;33m)\u001b[0m\u001b[1;33m\u001b[0m\u001b[1;33m\u001b[0m\u001b[0m\n\u001b[0m\u001b[0;32m      5\u001b[0m \u001b[0mprint\u001b[0m\u001b[1;33m(\u001b[0m\u001b[0mshakespere\u001b[0m\u001b[1;33m[\u001b[0m\u001b[1;36m5000\u001b[0m\u001b[1;33m:\u001b[0m\u001b[1;36m6000\u001b[0m\u001b[1;33m]\u001b[0m\u001b[1;33m)\u001b[0m \u001b[1;31m# Test to make sure the file is as expected\u001b[0m\u001b[1;33m\u001b[0m\u001b[1;33m\u001b[0m\u001b[0m\n",
      "\u001b[1;32m~\\anaconda3\\lib\\encodings\\cp1252.py\u001b[0m in \u001b[0;36mdecode\u001b[1;34m(self, input, final)\u001b[0m\n\u001b[0;32m     21\u001b[0m \u001b[1;32mclass\u001b[0m \u001b[0mIncrementalDecoder\u001b[0m\u001b[1;33m(\u001b[0m\u001b[0mcodecs\u001b[0m\u001b[1;33m.\u001b[0m\u001b[0mIncrementalDecoder\u001b[0m\u001b[1;33m)\u001b[0m\u001b[1;33m:\u001b[0m\u001b[1;33m\u001b[0m\u001b[1;33m\u001b[0m\u001b[0m\n\u001b[0;32m     22\u001b[0m     \u001b[1;32mdef\u001b[0m \u001b[0mdecode\u001b[0m\u001b[1;33m(\u001b[0m\u001b[0mself\u001b[0m\u001b[1;33m,\u001b[0m \u001b[0minput\u001b[0m\u001b[1;33m,\u001b[0m \u001b[0mfinal\u001b[0m\u001b[1;33m=\u001b[0m\u001b[1;32mFalse\u001b[0m\u001b[1;33m)\u001b[0m\u001b[1;33m:\u001b[0m\u001b[1;33m\u001b[0m\u001b[1;33m\u001b[0m\u001b[0m\n\u001b[1;32m---> 23\u001b[1;33m         \u001b[1;32mreturn\u001b[0m \u001b[0mcodecs\u001b[0m\u001b[1;33m.\u001b[0m\u001b[0mcharmap_decode\u001b[0m\u001b[1;33m(\u001b[0m\u001b[0minput\u001b[0m\u001b[1;33m,\u001b[0m\u001b[0mself\u001b[0m\u001b[1;33m.\u001b[0m\u001b[0merrors\u001b[0m\u001b[1;33m,\u001b[0m\u001b[0mdecoding_table\u001b[0m\u001b[1;33m)\u001b[0m\u001b[1;33m[\u001b[0m\u001b[1;36m0\u001b[0m\u001b[1;33m]\u001b[0m\u001b[1;33m\u001b[0m\u001b[1;33m\u001b[0m\u001b[0m\n\u001b[0m\u001b[0;32m     24\u001b[0m \u001b[1;33m\u001b[0m\u001b[0m\n\u001b[0;32m     25\u001b[0m \u001b[1;32mclass\u001b[0m \u001b[0mStreamWriter\u001b[0m\u001b[1;33m(\u001b[0m\u001b[0mCodec\u001b[0m\u001b[1;33m,\u001b[0m\u001b[0mcodecs\u001b[0m\u001b[1;33m.\u001b[0m\u001b[0mStreamWriter\u001b[0m\u001b[1;33m)\u001b[0m\u001b[1;33m:\u001b[0m\u001b[1;33m\u001b[0m\u001b[1;33m\u001b[0m\u001b[0m\n",
      "\u001b[1;31mUnicodeDecodeError\u001b[0m: 'charmap' codec can't decode byte 0x9d in position 104733: character maps to <undefined>"
     ]
    }
   ],
   "source": [
    "f=open(\"data/100-0.txt\",\"r\") \n",
    "#Download http://www.gutenberg.org/files/100/100-0.txt and put it into a subdirectory called data\n",
    "\n",
    "shakespere=f.read()\n",
    "print(shakespere[5000:6000]) # Test to make sure the file is as expected"
   ]
  },
  {
   "cell_type": "code",
   "execution_count": 43,
   "metadata": {},
   "outputs": [
    {
     "data": {
      "text/plain": [
       "'ï»¿The Project Gutenberg eBook of The Complete Works of William Shakespeare, by William Shakespeare'"
      ]
     },
     "execution_count": 43,
     "metadata": {},
     "output_type": "execute_result"
    }
   ],
   "source": [
    "shakespere"
   ]
  },
  {
   "cell_type": "code",
   "execution_count": 34,
   "metadata": {},
   "outputs": [
    {
     "name": "stdout",
     "output_type": "stream",
     "text": [
      "[]\n"
     ]
    }
   ],
   "source": [
    "import re\n",
    "words=re.findall(r\"[\\w']+\", shakespere) #This breaks it into words\n",
    "print(words[:100]) # Test showing the first 100 words of the document\n"
   ]
  },
  {
   "cell_type": "code",
   "execution_count": 21,
   "metadata": {},
   "outputs": [
    {
     "name": "stdout",
     "output_type": "stream",
     "text": [
      "Initializing with width= 2000  and height= 2  total size= 4000 for epsilon= 0.001 delta= 0.05\n",
      "Words added:  983333\n"
     ]
    }
   ],
   "source": [
    "#Now, lets make a countMin sketch and add our words (in lower case)\n",
    "import string\n",
    "\n",
    "CM=countMin(epsilon=0.001,delta=0.05,verbose=True)\n",
    "for word in words:\n",
    "    CM.add(word.lower())\n",
    "print(\"Words added: \",len(CM))"
   ]
  },
  {
   "cell_type": "markdown",
   "metadata": {},
   "source": [
    "Note our original data set had 5.8 million characters, and we have reduced this to a table of size 4000."
   ]
  },
  {
   "cell_type": "code",
   "execution_count": 6,
   "metadata": {},
   "outputs": [
    {
     "name": "stdout",
     "output_type": "stream",
     "text": [
      "Count of \"the\" is between  29252 and  30235 with probability at least 0.95\n",
      "Count of \"thy\" is between  3495 and  4478 with probability at least 0.95\n",
      "Count of \"King\" is between  0 and  88 with probability at least 0.95\n",
      "Count of \"king\" is between  2173 and  3156 with probability at least 0.95\n"
     ]
    }
   ],
   "source": [
    "CM.printCount(\"the\")\n",
    "CM.printCount(\"thy\")\n",
    "CM.printCount(\"King\") # There are none as we converted to lower case\n",
    "CM.printCount(\"king\")"
   ]
  },
  {
   "cell_type": "markdown",
   "metadata": {},
   "source": [
    "# Homework\n",
    "\n",
    "With the countMin sketch, given an item we can estimate its frequency. In the Shakespeare data set, we saw that `the` was fairly frequent. But we had to know to ask about `the`. What if we wanted to know all the words with frequency above a certain threshold, such as more than $2\\epsilon n$, without having to guess what they were? Show how to modify the class above so that a method `mostFrequent()` can be added that reports the words with frequency above $2\\epsilon n$. Most importantly, you can not store all the words! As your list that you will return will be at most size $1/2\\epsilon$ you should store at most roughly that many words."
   ]
  },
  {
   "cell_type": "code",
   "execution_count": 59,
   "metadata": {},
   "outputs": [],
   "source": [
    "import math\n",
    "\n",
    "class countMin:\n",
    "    def __init__(self,epsilon,delta,verbose=False):\n",
    "        self._w=int(2/epsilon)\n",
    "        self._h=int(math.log(1/delta))\n",
    "        self._epsilon=epsilon\n",
    "        self._delta=delta\n",
    "        if verbose:\n",
    "            print(\"Initializing with width=\",self._w,\n",
    "                  \" and height=\",self._h,\n",
    "                  \" total size=\",self._w*self._h,\n",
    "                  \"for epsilon=\", epsilon,\n",
    "                  \"delta=\",delta)\n",
    "        self._A=[ [0]*self._w for i in range(self._h)]\n",
    "        self._n=0\n",
    "    def __repr__(self):\n",
    "        return \"\".join( (repr(self._A[i])+\"\\n\" for i in range(self._h) ) )\n",
    "    def add(self,x,ammount=1):\n",
    "        for h in range(self._h):\n",
    "            self._A[h][hash((h,x))%self._w]+=ammount\n",
    "        self._n+=ammount\n",
    "    def count(self,x):\n",
    "        return min (self._A[h][hash((h,x))%self._w] for h in range(self._h))\n",
    "    def __len__(self):\n",
    "        return self._n\n",
    "    def mostFrequent(self,word):\n",
    "        if self.count(word) >  2 * self._epsilon * self._n :\n",
    "            return word\n",
    "    def printCount(self,x):\n",
    "        print(\"Count of \\\"\"+x+\n",
    "             \"\\\" is between \",max(0,self.count(x)-int(self._n*self._epsilon)),\n",
    "             \"and \",self.count(x),\n",
    "              \"with probability at least\",1-self._delta)"
   ]
  },
  {
   "cell_type": "code",
   "execution_count": 57,
   "metadata": {},
   "outputs": [
    {
     "name": "stdout",
     "output_type": "stream",
     "text": [
      "Initializing with width= 20  and height= 4  total size= 80 for epsilon= 0.1 delta= 0.01\n",
      "[0, 0, 2, 0, 0, 2, 0, 0, 0, 0, 0, 0, 0, 0, 0, 0, 0, 0, 0, 0]\n",
      "[2, 0, 0, 0, 0, 0, 2, 0, 0, 0, 0, 0, 0, 0, 0, 0, 0, 0, 0, 0]\n",
      "[0, 0, 0, 0, 0, 0, 0, 2, 0, 0, 2, 0, 0, 0, 0, 0, 0, 0, 0, 0]\n",
      "[0, 0, 0, 0, 0, 2, 0, 0, 0, 0, 0, 0, 0, 0, 0, 0, 0, 0, 0, 2]\n",
      "\n",
      "Count of \"Tiger\" is between  2 and  2 with probability at least 0.99\n"
     ]
    }
   ],
   "source": [
    "# A simple demo   \n",
    "CM=countMin(0.1,0.01,True)\n",
    "CM.add(\"Tiger\")\n",
    "CM.add(\"Tiger\")\n",
    "CM.add(\"ivo\")\n",
    "CM.add(\"ivo\")\n",
    "print(repr(CM))\n",
    "CM.printCount(\"Tiger\")  "
   ]
  },
  {
   "cell_type": "code",
   "execution_count": 60,
   "metadata": {},
   "outputs": [
    {
     "name": "stdout",
     "output_type": "stream",
     "text": [
      "Initializing with width= 20  and height= 4  total size= 80 for epsilon= 0.1 delta= 0.01\n",
      "Tiger\n",
      "ivo\n"
     ]
    }
   ],
   "source": [
    "              \n",
    "# A simple demo   \n",
    "CM=countMin(0.1,0.01,True)\n",
    "CM.add(\"Tiger\")\n",
    "CM.add(\"Tiger\")\n",
    "CM.add(\"ivo\")\n",
    "CM.add(\"ivo\")\n",
    "for word in [\"Tiger\",\"ivo\"]:\n",
    "    print(CM.mostFrequent(word))"
   ]
  },
  {
   "cell_type": "code",
   "execution_count": null,
   "metadata": {},
   "outputs": [],
   "source": []
  }
 ],
 "metadata": {
  "kernelspec": {
   "display_name": "Python 3",
   "language": "python",
   "name": "python3"
  },
  "language_info": {
   "codemirror_mode": {
    "name": "ipython",
    "version": 3
   },
   "file_extension": ".py",
   "mimetype": "text/x-python",
   "name": "python",
   "nbconvert_exporter": "python",
   "pygments_lexer": "ipython3",
   "version": "3.8.3"
  }
 },
 "nbformat": 4,
 "nbformat_minor": 4
}
